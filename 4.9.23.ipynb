{
 "cells": [
  {
   "cell_type": "code",
   "execution_count": 1,
   "id": "c8b889d7",
   "metadata": {},
   "outputs": [
    {
     "name": "stdout",
     "output_type": "stream",
     "text": [
      "Matrix 1:\n",
      "[[0.71075868 0.18992859 0.51167572]\n",
      " [0.70340858 0.74552935 0.53992014]\n",
      " [0.35487615 0.9121694  0.68482791]]\n",
      "\n",
      "Matrix 2:\n",
      "[[0.22485917 0.24979747 0.16382187]\n",
      " [0.84304419 0.8293213  0.86812121]\n",
      " [0.30305832 0.1090219  0.13263896]]\n",
      "\n",
      "Resultant Matrix (Matrix 1 * Matrix 2):\n",
      "[[0.47500639 0.39084141 0.34918699]\n",
      " [0.95030935 0.85285618 0.83405799]\n",
      " [1.05633906 0.91978992 0.94084493]]\n"
     ]
    }
   ],
   "source": [
    "#Mul\n",
    "import numpy as np\n",
    "\n",
    "# Generate two random 3x3 matrices\n",
    "matrix1 = np.random.rand(3, 3)\n",
    "matrix2 = np.random.rand(3, 3)\n",
    "\n",
    "# Perform matrix multiplication using np.matmul()\n",
    "result_matrix = np.matmul(matrix1, matrix2)\n",
    "\n",
    "print(\"Matrix 1:\")\n",
    "print(matrix1)\n",
    "print(\"\\nMatrix 2:\")\n",
    "print(matrix2)\n",
    "print(\"\\nResultant Matrix (Matrix 1 * Matrix 2):\")\n",
    "print(result_matrix)\n"
   ]
  },
  {
   "cell_type": "code",
   "execution_count": 2,
   "id": "e77150ef",
   "metadata": {},
   "outputs": [
    {
     "name": "stdout",
     "output_type": "stream",
     "text": [
      "Matrix 1:\n",
      "[[0.58084804 0.22526263 0.63405106]\n",
      " [0.77308625 0.77643803 0.21486257]\n",
      " [0.15630325 0.20921994 0.15965918]]\n",
      "\n",
      "Matrix 2:\n",
      "[[0.43231608 0.95548449 0.14550815]\n",
      " [0.09842538 0.28414301 0.4079085 ]\n",
      " [0.05682639 0.75848684 0.62702694]]\n",
      "\n",
      "Resultant Matrix (Matrix 1 * Matrix 2):\n",
      "[[0.30931235 1.09991748 0.57397176]\n",
      " [0.42284869 1.12226179 0.56393065]\n",
      " [0.09723782 0.3298931  0.20819659]]\n"
     ]
    }
   ],
   "source": [
    "#Dot\n",
    "import numpy as np\n",
    "\n",
    "# Generate two random 3x3 matrices\n",
    "matrix1 = np.random.rand(3, 3)\n",
    "matrix2 = np.random.rand(3, 3)\n",
    "\n",
    "# Perform matrix multiplication (dot product)\n",
    "result_matrix = np.dot(matrix1, matrix2)\n",
    "\n",
    "print(\"Matrix 1:\")\n",
    "print(matrix1)\n",
    "print(\"\\nMatrix 2:\")\n",
    "print(matrix2)\n",
    "print(\"\\nResultant Matrix (Matrix 1 * Matrix 2):\")\n",
    "print(result_matrix)\n"
   ]
  },
  {
   "cell_type": "code",
   "execution_count": 3,
   "id": "5353b187",
   "metadata": {},
   "outputs": [
    {
     "name": "stdout",
     "output_type": "stream",
     "text": [
      "Union: [1 2 3 4 5 6 7]\n",
      "Intersection: [3 4 5]\n",
      "Set Difference (array1 - array2): [1 2]\n",
      "Set Difference (array2 - array1): [6 7]\n",
      "XOR (Symmetric Difference): [1 2 6 7]\n"
     ]
    }
   ],
   "source": [
    "#Q2\n",
    "import numpy as np\n",
    "\n",
    "# Create two NumPy arrays\n",
    "array1 = np.array([1, 2, 3, 4, 5])\n",
    "array2 = np.array([3, 4, 5, 6, 7])\n",
    "\n",
    "# Union\n",
    "union_result = np.union1d(array1, array2)\n",
    "print(\"Union:\", union_result)\n",
    "\n",
    "# Intersection\n",
    "intersection_result = np.intersect1d(array1, array2)\n",
    "print(\"Intersection:\", intersection_result)\n",
    "\n",
    "# Set difference (elements in array1 but not in array2)\n",
    "difference_result1 = np.setdiff1d(array1, array2)\n",
    "print(\"Set Difference (array1 - array2):\", difference_result1)\n",
    "\n",
    "# Set difference (elements in array2 but not in array1)\n",
    "difference_result2 = np.setdiff1d(array2, array1)\n",
    "print(\"Set Difference (array2 - array1):\", difference_result2)\n",
    "\n",
    "# XOR (Symmetric Difference)\n",
    "xor_result = np.setxor1d(array1, array2)\n",
    "print(\"XOR (Symmetric Difference):\", xor_result)\n"
   ]
  },
  {
   "cell_type": "code",
   "execution_count": 4,
   "id": "9e80b6af",
   "metadata": {},
   "outputs": [
    {
     "name": "stdout",
     "output_type": "stream",
     "text": [
      "Cumulative Sum: [0.20885331 0.88802188 1.23373469 1.24823308 1.26227292 2.20978721\n",
      " 2.5901551  2.68496669 3.54651473 3.65749361]\n",
      "Cumulative Product: [2.08853314e-01 1.41846606e-01 4.90381882e-02 7.10974837e-04\n",
      " 9.98197646e-06 9.45806533e-06 3.59754438e-06 3.41088894e-07\n",
      " 2.93864469e-07 3.26127482e-08]\n",
      "Discrete Difference (n=3): [ 0.80601235  0.32851453  0.60317712 -2.43455383  1.78221093  0.77070267\n",
      " -2.56959838]\n",
      "Unique Elements: [0.01403984 0.01449839 0.09481159 0.11097888 0.20885331 0.34571281\n",
      " 0.38036789 0.67916856 0.86154804 0.94751429]\n"
     ]
    }
   ],
   "source": [
    "#Q3\n",
    "import numpy as np\n",
    "\n",
    "# Create a random 1D array with 10 elements\n",
    "random_array = np.random.rand(10)\n",
    "\n",
    "# Cumulative sum\n",
    "cumulative_sum = np.cumsum(random_array)\n",
    "print(\"Cumulative Sum:\", cumulative_sum)\n",
    "\n",
    "# Cumulative product\n",
    "cumulative_product = np.cumprod(random_array)\n",
    "print(\"Cumulative Product:\", cumulative_product)\n",
    "\n",
    "# Discrete difference with n=3\n",
    "discrete_diff = np.diff(random_array, n=3)\n",
    "print(\"Discrete Difference (n=3):\", discrete_diff)\n",
    "\n",
    "# Find unique elements in the array\n",
    "unique_elements = np.unique(random_array)\n",
    "print(\"Unique Elements:\", unique_elements)\n"
   ]
  },
  {
   "cell_type": "code",
   "execution_count": 5,
   "id": "69b5c4f5",
   "metadata": {},
   "outputs": [
    {
     "name": "stdout",
     "output_type": "stream",
     "text": [
      "Addition using zip(): [ 7  9 11 13 15]\n",
      "Addition using np.add(): [ 7  9 11 13 15]\n",
      "Addition using user-defined function: [ 7  9 11 13 15]\n"
     ]
    }
   ],
   "source": [
    "#Q4\n",
    "\n",
    "import numpy as np\n",
    "\n",
    "# Create two 1D arrays\n",
    "array1 = np.array([1, 2, 3, 4, 5])\n",
    "array2 = np.array([6, 7, 8, 9, 10])\n",
    "\n",
    "# Addition using zip()\n",
    "addition_zip = np.array([a + b for a, b in zip(array1, array2)])\n",
    "print(\"Addition using zip():\", addition_zip)\n",
    "\n",
    "# Addition using np.add()\n",
    "addition_np = np.add(array1, array2)\n",
    "print(\"Addition using np.add():\", addition_np)\n",
    "\n",
    "# User-defined addition function using np.frompyfunc()\n",
    "def add_elements(a, b):\n",
    "    return a + b\n",
    "\n",
    "addition_func = np.frompyfunc(add_elements, 2, 1)\n",
    "addition_custom = addition_func(array1, array2).astype(int)\n",
    "print(\"Addition using user-defined function:\", addition_custom)\n"
   ]
  },
  {
   "cell_type": "code",
   "execution_count": 6,
   "id": "adf1266d",
   "metadata": {},
   "outputs": [
    {
     "name": "stdout",
     "output_type": "stream",
     "text": [
      "GCD of the array: 6\n",
      "LCM of the array: 72\n"
     ]
    }
   ],
   "source": [
    "#Q5\n",
    "\n",
    "from functools import reduce\n",
    "import numpy as np\n",
    "import math\n",
    "\n",
    "# Function to calculate the GCD (Greatest Common Divisor) of two numbers\n",
    "def gcd(a, b):\n",
    "    while b:\n",
    "        a, b = b, a % b\n",
    "    return a\n",
    "\n",
    "# Function to calculate the LCM (Least Common Multiple) of two numbers\n",
    "def lcm(a, b):\n",
    "    return a * b // gcd(a, b)\n",
    "\n",
    "# Create an array of elements\n",
    "array = np.array([12, 18, 24, 36])\n",
    "\n",
    "# Calculate the GCD of the array using reduce()\n",
    "gcd_result = reduce(gcd, array)\n",
    "print(\"GCD of the array:\", gcd_result)\n",
    "\n",
    "# Calculate the LCM of the array using reduce() and the GCD function\n",
    "lcm_result = reduce(lcm, array)\n",
    "print(\"LCM of the array:\", lcm_result)\n"
   ]
  },
  {
   "cell_type": "code",
   "execution_count": null,
   "id": "8c8d19fa",
   "metadata": {},
   "outputs": [],
   "source": []
  }
 ],
 "metadata": {
  "kernelspec": {
   "display_name": "Python 3.10.6 64-bit",
   "language": "python",
   "name": "python3"
  },
  "language_info": {
   "codemirror_mode": {
    "name": "ipython",
    "version": 3
   },
   "file_extension": ".py",
   "mimetype": "text/x-python",
   "name": "python",
   "nbconvert_exporter": "python",
   "pygments_lexer": "ipython3",
   "version": "3.10.6"
  },
  "vscode": {
   "interpreter": {
    "hash": "52634da84371cba311ea128a5ea7cdc41ff074b781779e754b270ff9f8153cee"
   }
  }
 },
 "nbformat": 4,
 "nbformat_minor": 5
}
